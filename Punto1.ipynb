{
 "metadata": {
  "name": "",
  "signature": "sha256:b09768d2a28d1a222123023575fbbc2abf6a65b3f97fd0faee56c7606c5d0543"
 },
 "nbformat": 3,
 "nbformat_minor": 0,
 "worksheets": [
  {
   "cells": [
    {
     "cell_type": "code",
     "collapsed": false,
     "input": [
      "%pylab inline\n",
      "import itertools"
     ],
     "language": "python",
     "metadata": {},
     "outputs": [
      {
       "output_type": "stream",
       "stream": "stdout",
       "text": [
        "Populating the interactive namespace from numpy and matplotlib\n"
       ]
      }
     ],
     "prompt_number": 2
    },
    {
     "cell_type": "markdown",
     "metadata": {},
     "source": [
      "#Punto 1\n",
      "##(a)\n",
      "Capic\u00faas de 9 d\u00edgitos."
     ]
    },
    {
     "cell_type": "code",
     "collapsed": false,
     "input": [
      "p = itertools.product(range(10), repeat = 5)"
     ],
     "language": "python",
     "metadata": {},
     "outputs": [],
     "prompt_number": 18
    },
    {
     "cell_type": "code",
     "collapsed": false,
     "input": [
      "lis = []\n",
      "for x in p:\n",
      "    lis.append(''.join(map(str,x)))"
     ],
     "language": "python",
     "metadata": {},
     "outputs": [],
     "prompt_number": 19
    },
    {
     "cell_type": "code",
     "collapsed": false,
     "input": [
      "capi=[]\n",
      "for x in lis:\n",
      "    temp = (x[0:-1]+x[::-1])\n",
      "    capi.append(temp)"
     ],
     "language": "python",
     "metadata": {},
     "outputs": [],
     "prompt_number": 20
    },
    {
     "cell_type": "code",
     "collapsed": false,
     "input": [
      "len(capi)"
     ],
     "language": "python",
     "metadata": {},
     "outputs": [
      {
       "metadata": {},
       "output_type": "pyout",
       "prompt_number": 21,
       "text": [
        "100000"
       ]
      }
     ],
     "prompt_number": 21
    },
    {
     "cell_type": "raw",
     "metadata": {},
     "source": [
      "print capi #Esta celda imprime la lista de capuc\u00faas de 9 d\u00edgitos"
     ]
    },
    {
     "cell_type": "raw",
     "metadata": {},
     "source": [
      "#Esta funci\u00f3n imprime los capic\u00faas.\n",
      "def imprimir(a):\n",
      "    if ((a[0]==a[-1]) and (a[1]==a[-2]) and (a[2]==a[-3]) and (a[3]==a[-4])):\n",
      "        numero = \"\" \n",
      "        for element in a:                   \n",
      "            numero = numero + str(int(element))                        \n",
      "        print numero"
     ]
    },
    {
     "cell_type": "markdown",
     "metadata": {},
     "source": [
      "##(b)"
     ]
    },
    {
     "cell_type": "code",
     "collapsed": false,
     "input": [
      "#Esta funci\u00f3n comrpueba si el binario es capic\u00faa o no.\n",
      "def comprobar(a):    \n",
      "    lon = len(a) -1\n",
      "    maxran = (len(a)-(len(a)%2))/2\n",
      "    cont = 0    \n",
      "    for i in range(maxran):    \n",
      "        if(int(a[i]) == int(a[lon-i])):\n",
      "            cont = cont +1        \n",
      "        else:\n",
      "            #print \"No es capicua\"\n",
      "            break\n",
      "    if(cont==maxran):\n",
      "        return True #, a\n",
      "    else:\n",
      "        return False"
     ],
     "language": "python",
     "metadata": {},
     "outputs": [],
     "prompt_number": 44
    },
    {
     "cell_type": "code",
     "collapsed": false,
     "input": [
      "b = bin(313)\n",
      "c = itertools.islice()\n",
      "comprobar(b)"
     ],
     "language": "python",
     "metadata": {},
     "outputs": [
      {
       "ename": "TypeError",
       "evalue": "islice expected at least 2 arguments, got 0",
       "output_type": "pyerr",
       "traceback": [
        "\u001b[0;31m---------------------------------------------------------------------------\u001b[0m\n\u001b[0;31mTypeError\u001b[0m                                 Traceback (most recent call last)",
        "\u001b[0;32m<ipython-input-45-f65f6fabda31>\u001b[0m in \u001b[0;36m<module>\u001b[0;34m()\u001b[0m\n\u001b[1;32m      1\u001b[0m \u001b[0mb\u001b[0m \u001b[0;34m=\u001b[0m \u001b[0mbin\u001b[0m\u001b[0;34m(\u001b[0m\u001b[0;36m313\u001b[0m\u001b[0;34m)\u001b[0m\u001b[0;34m\u001b[0m\u001b[0m\n\u001b[0;32m----> 2\u001b[0;31m \u001b[0mc\u001b[0m \u001b[0;34m=\u001b[0m \u001b[0mitertools\u001b[0m\u001b[0;34m.\u001b[0m\u001b[0mislice\u001b[0m\u001b[0;34m(\u001b[0m\u001b[0;34m)\u001b[0m\u001b[0;34m\u001b[0m\u001b[0m\n\u001b[0m\u001b[1;32m      3\u001b[0m \u001b[0mcomprobar\u001b[0m\u001b[0;34m(\u001b[0m\u001b[0mb\u001b[0m\u001b[0;34m)\u001b[0m\u001b[0;34m\u001b[0m\u001b[0m\n",
        "\u001b[0;31mTypeError\u001b[0m: islice expected at least 2 arguments, got 0"
       ]
      }
     ],
     "prompt_number": 45
    },
    {
     "cell_type": "code",
     "collapsed": false,
     "input": [
      "def pegar(a):\n",
      "    lis=[]\n",
      "    for x in a:\n",
      "        lis.append(''.join(x))"
     ],
     "language": "python",
     "metadata": {},
     "outputs": [],
     "prompt_number": 46
    },
    {
     "cell_type": "code",
     "collapsed": false,
     "input": [
      "#Toma los capic\u00faas y los pasa a binario. Los pone en una lista en el mismo orden de la procedencia\n",
      "binis=[]\n",
      "for x in capi:\n",
      "    temp = bin(int(x))\n",
      "    binis.append(temp)"
     ],
     "language": "python",
     "metadata": {},
     "outputs": [],
     "prompt_number": 48
    },
    {
     "cell_type": "code",
     "collapsed": false,
     "input": [
      "#print binis"
     ],
     "language": "python",
     "metadata": {},
     "outputs": [],
     "prompt_number": 49
    },
    {
     "cell_type": "code",
     "collapsed": false,
     "input": [
      "a = bin(313)"
     ],
     "language": "python",
     "metadata": {},
     "outputs": [],
     "prompt_number": 50
    },
    {
     "cell_type": "code",
     "collapsed": false,
     "input": [
      "#Toma el binario y le quita las dos letas, lo pone en un arreglo individual pra poderlo procesar. \n",
      "final=[]\n",
      "z=[]\n",
      "for element in binis:\n",
      "    b = itertools.islice(element,2,None)\n",
      "    bs = []\n",
      "    for x in b:\n",
      "        z = (''.join(map(str,x)))\n",
      "    bs.append(z)\n",
      "    if(comprobar(bs)):\n",
      "        pegar(bs)\n",
      "        final.append(bs)\n",
      "print b"
     ],
     "language": "python",
     "metadata": {},
     "outputs": [
      {
       "output_type": "stream",
       "stream": "stdout",
       "text": [
        "<itertools.islice object at 0xb136c70c>\n"
       ]
      }
     ],
     "prompt_number": 221
    },
    {
     "cell_type": "code",
     "collapsed": false,
     "input": [
      "largo = len(bs)\n",
      "maxran = (len(bs)-(len(bs)%2))/2\n",
      "print largo, maxran\n",
      "print bs"
     ],
     "language": "python",
     "metadata": {},
     "outputs": [
      {
       "output_type": "stream",
       "stream": "stdout",
       "text": [
        "30 15\n",
        "['1', '1', '1', '0', '1', '1', '1', '0', '0', '1', '1', '0', '1', '0', '1', '1', '0', '0', '1', '0', '0', '1', '1', '1', '1', '1', '1', '1', '1', '1']\n"
       ]
      }
     ],
     "prompt_number": 52
    },
    {
     "cell_type": "code",
     "collapsed": false,
     "input": [
      "comprobar(bs)"
     ],
     "language": "python",
     "metadata": {},
     "outputs": [
      {
       "metadata": {},
       "output_type": "pyout",
       "prompt_number": 75,
       "text": [
        "False"
       ]
      }
     ],
     "prompt_number": 75
    },
    {
     "cell_type": "code",
     "collapsed": false,
     "input": [
      "anita = \"anita lava la tina\".replace(\" \",\"\")"
     ],
     "language": "python",
     "metadata": {},
     "outputs": [],
     "prompt_number": 85
    },
    {
     "cell_type": "code",
     "collapsed": false,
     "input": [
      "ana = []\n",
      "for x in anita:\n",
      "    ana.append(''.join(x))"
     ],
     "language": "python",
     "metadata": {},
     "outputs": [],
     "prompt_number": 86
    },
    {
     "cell_type": "code",
     "collapsed": false,
     "input": [
      "print ana, anita"
     ],
     "language": "python",
     "metadata": {},
     "outputs": [
      {
       "output_type": "stream",
       "stream": "stdout",
       "text": [
        "['a', 'n', 'i', 't', 'a', 'l', 'a', 'v', 'a', 'l', 'a', 't', 'i', 'n', 'a'] anitalavalatina\n"
       ]
      }
     ],
     "prompt_number": 87
    },
    {
     "cell_type": "markdown",
     "metadata": {},
     "source": [
      "#c)"
     ]
    },
    {
     "cell_type": "code",
     "collapsed": false,
     "input": [
      "def cambiarVocales(word):\n",
      "    vowelsac = ['\\xa1', '\\xa9', '\\xad', '\\xb3', '\\xba', '\\x81', '\\x89', '\\x8d', '\\x93', '\\x9a']\n",
      "    vowels = ['a', 'e', 'i', 'o', 'u', 'A', 'E', 'I', 'O', 'U']\n",
      "    j=0\n",
      "    cont = 0 \n",
      "    for letra in word:\n",
      "        #for elemento in vowelsac:\n",
      "            #if letra == elemento:                \n",
      "        word.replace(\"a\",\"i\")\n",
      "        j+=1       \n",
      "    return word\n",
      "b = \"H\u00e1l\u00e1 \u00f3 \u00e9\""
     ],
     "language": "python",
     "metadata": {},
     "outputs": [],
     "prompt_number": 219
    },
    {
     "cell_type": "code",
     "collapsed": false,
     "input": [
      "vowelsac = ['\u00e1','\u00e9','\u00ed','\u00f3','\u00fa',]\n",
      "vowels = ['a', 'e', 'i', 'o', 'u']#, 'A', 'E', 'I', 'O', 'U']\n",
      "h = [\"a\",\"e\",\"i\",\"o\",\"u\"]\n",
      "i=0\n",
      "#b = a.replace(\" \",\"\")\n",
      "for ace in vowelsac:    \n",
      "    if ace in b:       \n",
      "        b = b.replace(ace, h[i]) \n",
      "    i+=1\n",
      "print b"
     ],
     "language": "python",
     "metadata": {},
     "outputs": [
      {
       "output_type": "stream",
       "stream": "stdout",
       "text": [
        "Hala o e\n"
       ]
      }
     ],
     "prompt_number": 220
    },
    {
     "cell_type": "code",
     "collapsed": false,
     "input": [
      "def quitaracentos(a):\n",
      "    i = 0\n",
      "    j = 0\n",
      "    to_remove = []    \n",
      "    for letra in word:\n",
      "        for acento in to_remove:\n",
      "            if letra == acento:\n",
      "                word.replace[\"word[i]\",]"
     ],
     "language": "python",
     "metadata": {},
     "outputs": [],
     "prompt_number": 179
    },
    {
     "cell_type": "code",
     "collapsed": false,
     "input": [],
     "language": "python",
     "metadata": {},
     "outputs": []
    }
   ],
   "metadata": {}
  }
 ]
}