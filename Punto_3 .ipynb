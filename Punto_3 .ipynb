{
 "metadata": {
  "name": "",
  "signature": "sha256:caf757510a3ed02a95858181240923f40be39a6676a91621a29cba84c26c07b8"
 },
 "nbformat": 3,
 "nbformat_minor": 0,
 "worksheets": [
  {
   "cells": [
    {
     "cell_type": "code",
     "collapsed": false,
     "input": [
      "%pylab inline\n",
      "from visual import *\n",
      "from os import system\n",
      "import csv\n",
      "import pandas as pd"
     ],
     "language": "python",
     "metadata": {},
     "outputs": [
      {
       "output_type": "stream",
       "stream": "stdout",
       "text": [
        "Populating the interactive namespace from numpy and matplotlib\n"
       ]
      }
     ],
     "prompt_number": 1
    },
    {
     "cell_type": "code",
     "collapsed": false,
     "input": [
      "s = sphere()\n",
      "b = box()\n",
      "for i in range (10000):\n",
      "    rate(1000)\n",
      "    s.pos = i/1000., 0, 0\n",
      "    b.pos = -i/1000., 0, 0"
     ],
     "language": "python",
     "metadata": {},
     "outputs": []
    },
    {
     "cell_type": "code",
     "collapsed": false,
     "input": [
      "!head Sainte-Beuve.txt"
     ],
     "language": "python",
     "metadata": {},
     "outputs": [
      {
       "output_type": "stream",
       "stream": "stdout",
       "text": [
        "\ufeffProject Gutenberg's Baudelaire et Sainte-Beuve, by Fernand Vand\u00e9rem\r\n",
        "\r\n",
        "This eBook is for the use of anyone anywhere at no cost and with\r\n",
        "almost no restrictions whatsoever.  You may copy it, give it away or\r\n",
        "re-use it under the terms of the Project Gutenberg License included\r\n",
        "with this eBook or online at www.gutenberg.org\r\n",
        "\r\n",
        "\r\n",
        "Title: Baudelaire et Sainte-Beuve\r\n",
        "\r\n"
       ]
      }
     ],
     "prompt_number": 2
    },
    {
     "cell_type": "code",
     "collapsed": false,
     "input": [
      "numVocales(\"H\u00e1la\u00c1\")\n",
      "h = \"Hola\"\n"
     ],
     "language": "python",
     "metadata": {},
     "outputs": [],
     "prompt_number": 13
    },
    {
     "cell_type": "code",
     "collapsed": false,
     "input": [
      "print h[1], len(h)"
     ],
     "language": "python",
     "metadata": {},
     "outputs": [
      {
       "output_type": "stream",
       "stream": "stdout",
       "text": [
        "o 4\n"
       ]
      }
     ],
     "prompt_number": 17
    },
    {
     "cell_type": "code",
     "collapsed": false,
     "input": [
      "def numVocales(word):\n",
      "    #Lista con los c\u00f3digos de las vocales acentuadas: '\\xa1' es \u00e1 aunque en realidad es\n",
      "    #'\\xc3'+'\\xa1'; pero '\\xc3' es com\u00fan a todas las acentuadas\n",
      "    vowels = ['\\xa1', '\\xa9', '\\xad', '\\xb3', '\\xba', 'a', 'e', 'i', 'o', 'u',\n",
      "              '\\x81', '\\x89', '\\x8d', '\\x93', '\\x9a', 'A', 'E', 'I', 'O', 'U']\n",
      "    i = 0\n",
      "    cont = 0 \n",
      "    while i < len(word): \n",
      "        cont += vowels.count(word[i]) \n",
      "        i += 1 \n",
      "    return cont"
     ],
     "language": "python",
     "metadata": {},
     "outputs": [],
     "prompt_number": 5
    },
    {
     "cell_type": "code",
     "collapsed": false,
     "input": [
      "# Usa 'rb' en vez de 'r' si se trata de un fichero binario.\n",
      "infile = open('Sainte-Beuve.txt', 'r')\n",
      "# Mostramos por pantalla lo que leemos desde el fichero\n",
      "i=0\n",
      "tot=0\n",
      "system('clear')\n",
      "for line in infile:\n",
      "    if(i <= 100):\n",
      "        num = numVocales(line)\n",
      "        tot += num\n",
      "        i=i+1\n",
      "    else:\n",
      "        break\n",
      "# Cerramos el fichero.\n",
      "print tot\n",
      "infile.close()"
     ],
     "language": "python",
     "metadata": {},
     "outputs": [
      {
       "output_type": "stream",
       "stream": "stdout",
       "text": [
        "640\n"
       ]
      }
     ],
     "prompt_number": 8
    },
    {
     "cell_type": "code",
     "collapsed": false,
     "input": [
      "#Comienzo del programa\n",
      "system('clear') \n",
      "palabra = '\u00c1' \n",
      " \n",
      "#implementa la funci\u00f3n\n",
      "print \"El n\u00famero de vocales en %s es %s\" % (palabra, numVocales(palabra))\n"
     ],
     "language": "python",
     "metadata": {},
     "outputs": [
      {
       "output_type": "stream",
       "stream": "stdout",
       "text": [
        "El n\u00famero de vocales en \u00c1 es 1\n"
       ]
      }
     ],
     "prompt_number": 26
    },
    {
     "cell_type": "code",
     "collapsed": false,
     "input": [
      "!ls\n",
      "!head Notas.csv"
     ],
     "language": "python",
     "metadata": {},
     "outputs": [
      {
       "output_type": "stream",
       "stream": "stdout",
       "text": [
        "Houston-security.xls  Notas.csv     Punto_3 .ipynb    Test\r\n",
        "hw3.pdf\t\t      Punto1.ipynb  Sainte-Beuve.txt\r\n"
       ]
      },
      {
       "output_type": "stream",
       "stream": "stdout",
       "text": [
        "Taller,1,Taller,2,Taller,3,Taller,4,Taller,5,Taller,6,Taller,7,Taller,8\r\n",
        "100,40,30,0,20,29,50,32\r\n",
        "100,90,100,100,85,96,80,85\r\n",
        "83,75,25,28,45,58,75,55\r\n",
        "94,90,100,100,75,113,80,100\r\n",
        "90,75,55,20,52,34,55,50\r\n",
        "93,55,90,20,70,68,50,105\r\n",
        "100,85,50,20,42,81,80,70\r\n",
        "36,75,30,80,42,32,25,0\r\n",
        "85,80,90,5,52,88,50,0\r\n"
       ]
      }
     ],
     "prompt_number": 56
    },
    {
     "cell_type": "code",
     "collapsed": false,
     "input": [
      "f=open('Notas.csv')\n",
      "lns=csv.reader(f)\n",
      "i=0\n",
      "nombre=[]\n",
      "apellido=[]\n",
      "for line in lns:\n",
      "    nombre.append(line[0])\n",
      "    apellido.append(line[1])"
     ],
     "language": "python",
     "metadata": {},
     "outputs": [],
     "prompt_number": 87
    },
    {
     "cell_type": "code",
     "collapsed": false,
     "input": [
      "xl_file = pd.ExcelFile(\"Houston-security.xls\")\n",
      "dfs = {sheet_name: xl_file.parse(sheet_name) \n",
      "          for sheet_name in xl_file.sheet_names}"
     ],
     "language": "python",
     "metadata": {},
     "outputs": [],
     "prompt_number": 89
    },
    {
     "cell_type": "code",
     "collapsed": false,
     "input": [],
     "language": "python",
     "metadata": {},
     "outputs": [],
     "prompt_number": 84
    },
    {
     "cell_type": "code",
     "collapsed": false,
     "input": [],
     "language": "python",
     "metadata": {},
     "outputs": [],
     "prompt_number": 86
    },
    {
     "cell_type": "code",
     "collapsed": false,
     "input": [],
     "language": "python",
     "metadata": {},
     "outputs": []
    },
    {
     "cell_type": "code",
     "collapsed": false,
     "input": [],
     "language": "python",
     "metadata": {},
     "outputs": []
    },
    {
     "cell_type": "code",
     "collapsed": false,
     "input": [],
     "language": "python",
     "metadata": {},
     "outputs": [
      {
       "metadata": {},
       "output_type": "pyout",
       "prompt_number": 10,
       "text": [
        "<visual.primitives.box at 0xab8cefa4>"
       ]
      }
     ],
     "prompt_number": 10
    }
   ],
   "metadata": {}
  }
 ]
}