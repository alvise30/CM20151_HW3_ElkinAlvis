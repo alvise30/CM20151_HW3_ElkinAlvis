{
 "metadata": {
  "name": "",
  "signature": "sha256:f5a2cb52eb1cb87384f6b192847ab450f41d68fe5b24d69edb1ceb456685ea05"
 },
 "nbformat": 3,
 "nbformat_minor": 0,
 "worksheets": [
  {
   "cells": [
    {
     "cell_type": "markdown",
     "metadata": {},
     "source": [
      "#Tarea 3-Punto 2\n",
      "##Elkin R. Alvis Narv\u00e1ez - 201112664"
     ]
    },
    {
     "cell_type": "code",
     "collapsed": false,
     "input": [
      "import numpy as np\n",
      "import itertools"
     ],
     "language": "python",
     "metadata": {},
     "outputs": [],
     "prompt_number": 11
    },
    {
     "cell_type": "code",
     "collapsed": false,
     "input": [
      "def subir(N):\n",
      "    if(N==0):\n",
      "        return 1\n",
      "    elif N==1:\n",
      "        return 1\n",
      "    else:\n",
      "        return subir(N-1)+subir(N-2)"
     ],
     "language": "python",
     "metadata": {},
     "outputs": [],
     "prompt_number": 12
    },
    {
     "cell_type": "code",
     "collapsed": false,
     "input": [
      "print \"Para 13 escalones la cantidad de posibilidades es: \" + str(subir(13))\n",
      "print \"Para 15 escalones la cantidad de posibilidades es: \" + str(subir(15))"
     ],
     "language": "python",
     "metadata": {},
     "outputs": [
      {
       "output_type": "stream",
       "stream": "stdout",
       "text": [
        "Para 13 escalones la cantidad de posibilidades es: 377\n",
        "Para 15 escalones la cantidad de posibilidades es: 987\n"
       ]
      }
     ],
     "prompt_number": 19
    },
    {
     "cell_type": "code",
     "collapsed": false,
     "input": [
      "def arreglo_escaleras(a, b):\n",
      "    final = []\n",
      "    for i in range(len(A)):       \n",
      "        n = a[i] % (2*b[i])\n",
      "        temp = subir(n)\n",
      "        final.append(temp)\n",
      "    return final"
     ],
     "language": "python",
     "metadata": {},
     "outputs": [],
     "prompt_number": 20
    },
    {
     "cell_type": "code",
     "collapsed": false,
     "input": [
      "A = [4,4,5,5,1]\n",
      "B = [3,2,4,3,1]"
     ],
     "language": "python",
     "metadata": {},
     "outputs": [],
     "prompt_number": 21
    },
    {
     "cell_type": "code",
     "collapsed": false,
     "input": [
      "arreglo_escaleras(A,B)"
     ],
     "language": "python",
     "metadata": {},
     "outputs": [
      {
       "metadata": {},
       "output_type": "pyout",
       "prompt_number": 22,
       "text": [
        "[5, 1, 8, 8, 1]"
       ]
      }
     ],
     "prompt_number": 22
    },
    {
     "cell_type": "code",
     "collapsed": false,
     "input": [],
     "language": "python",
     "metadata": {},
     "outputs": []
    },
    {
     "cell_type": "code",
     "collapsed": false,
     "input": [],
     "language": "python",
     "metadata": {},
     "outputs": []
    }
   ],
   "metadata": {}
  }
 ]
}