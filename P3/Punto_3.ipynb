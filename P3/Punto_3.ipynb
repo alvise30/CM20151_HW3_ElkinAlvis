{
 "metadata": {
  "name": "",
  "signature": "sha256:5057e1100fe077e39273a686562a45203e33defd2373eab6ff2ddc4e61f5eee1"
 },
 "nbformat": 3,
 "nbformat_minor": 0,
 "worksheets": [
  {
   "cells": [
    {
     "cell_type": "code",
     "collapsed": false,
     "input": [
      "%pylab inline\n",
      "from visual import *\n",
      "from os import system\n",
      "import csv\n",
      "import pandas as pd"
     ],
     "language": "python",
     "metadata": {},
     "outputs": [
      {
       "output_type": "stream",
       "stream": "stdout",
       "text": [
        "Populating the interactive namespace from numpy and matplotlib\n"
       ]
      }
     ],
     "prompt_number": 2
    },
    {
     "cell_type": "raw",
     "metadata": {},
     "source": [
      "s = sphere()\n",
      "b = box()\n",
      "for i in range (10000):\n",
      "    rate(100)\n",
      "    s.pos = i/1000., 0, 0\n",
      "    b.pos = -i/1000., 0, 0"
     ]
    },
    {
     "cell_type": "markdown",
     "metadata": {},
     "source": [
      "#c\n",
      "Punto terminado"
     ]
    },
    {
     "cell_type": "code",
     "collapsed": false,
     "input": [
      "!head Sainte-Beuve.txt"
     ],
     "language": "python",
     "metadata": {},
     "outputs": [
      {
       "output_type": "stream",
       "stream": "stdout",
       "text": [
        "\ufeffProject Gutenberg's Baudelaire et Sainte-Beuve, by Fernand Vand\u00e9rem\r\n",
        "\r\n",
        "This eBook is for the use of anyone anywhere at no cost and with\r\n",
        "almost no restrictions whatsoever.  You may copy it, give it away or\r\n",
        "re-use it under the terms of the Project Gutenberg License included\r\n",
        "with this eBook or online at www.gutenberg.org\r\n",
        "\r\n",
        "\r\n",
        "Title: Baudelaire et Sainte-Beuve\r\n",
        "\r\n"
       ]
      }
     ],
     "prompt_number": 3
    },
    {
     "cell_type": "code",
     "collapsed": false,
     "input": [
      "def numVocales(word):\n",
      "    #Lista con los c\u00f3digos de las vocales acentuadas: '\\xa1' es \u00e1 aunque en realidad es\n",
      "    #'\\xc3'+'\\xa1'; pero '\\xc3' es com\u00fan a todas las acentuadas\n",
      "    vowels = ['\\xa1', '\\xa9', '\\xad', '\\xb3', '\\xba', 'a', 'e', 'i', 'o', 'u',\n",
      "              '\\x81', '\\x89', '\\x8d', '\\x93', '\\x9a', 'A', 'E', 'I', 'O', 'U']\n",
      "    i = 0\n",
      "    cont = 0 \n",
      "    while i < len(word): \n",
      "        cont += vowels.count(word[i]) \n",
      "        i += 1 \n",
      "    return cont"
     ],
     "language": "python",
     "metadata": {},
     "outputs": [],
     "prompt_number": 4
    },
    {
     "cell_type": "code",
     "collapsed": false,
     "input": [
      "numVocales('H\u00d3l\u00e1 tu')"
     ],
     "language": "python",
     "metadata": {},
     "outputs": [
      {
       "metadata": {},
       "output_type": "pyout",
       "prompt_number": 5,
       "text": [
        "3"
       ]
      }
     ],
     "prompt_number": 5
    },
    {
     "cell_type": "code",
     "collapsed": false,
     "input": [
      "n = raw_input(\"digite\")\n",
      "infile = open('Sainte-Beuve.txt', 'r')\n",
      "i=0\n",
      "tot=0\n",
      "system('clear')\n",
      "for line in infile:\n",
      "    if(i <= int(n)):\n",
      "        num = numVocales(line)\n",
      "        tot += num\n",
      "        i=i+1\n",
      "    else:\n",
      "        break\n",
      "# Cerramos el fichero.\n",
      "print 'El numero de vocales es:' + str(tot)\n",
      "infile.close()"
     ],
     "language": "python",
     "metadata": {},
     "outputs": [
      {
       "name": "stdout",
       "output_type": "stream",
       "stream": "stdout",
       "text": [
        "digite3\n"
       ]
      },
      {
       "output_type": "stream",
       "stream": "stdout",
       "text": [
        "66\n"
       ]
      }
     ],
     "prompt_number": 11
    },
    {
     "cell_type": "code",
     "collapsed": false,
     "input": [
      "#Comienzo del programa\n",
      "system('clear') \n",
      "palabra = '\u00c1' \n",
      " \n",
      "#implementa la funci\u00f3n\n",
      "print \"El n\u00famero de vocales en %s es %s\" % (palabra, numVocales(palabra))"
     ],
     "language": "python",
     "metadata": {},
     "outputs": []
    },
    {
     "cell_type": "markdown",
     "metadata": {},
     "source": [
      "#b\n",
      "Punto Terminado"
     ]
    },
    {
     "cell_type": "code",
     "collapsed": false,
     "input": [
      "!head Notas.csv"
     ],
     "language": "python",
     "metadata": {},
     "outputs": []
    },
    {
     "cell_type": "code",
     "collapsed": false,
     "input": [
      "fc = open('Notas.csv')\n",
      "fd = open('Notas.dat', 'w')\n",
      "lns = csv.reader(fc)\n",
      "i=0\n",
      "for line in lns:\n",
      "    for i in range(len(line)):\n",
      "        if i < (len(line)-1):    \n",
      "            open('Notas.dat','a+b').write(line[i] + '+') \n",
      "        elif i == (len(line)-1):\n",
      "            open('Notas.dat', 'a+b').write(line[i] + '\\n') "
     ],
     "language": "python",
     "metadata": {},
     "outputs": []
    },
    {
     "cell_type": "code",
     "collapsed": false,
     "input": [
      "!head Notas.dat"
     ],
     "language": "python",
     "metadata": {},
     "outputs": []
    },
    {
     "cell_type": "code",
     "collapsed": false,
     "input": [],
     "language": "python",
     "metadata": {},
     "outputs": []
    },
    {
     "cell_type": "code",
     "collapsed": false,
     "input": [],
     "language": "python",
     "metadata": {},
     "outputs": []
    },
    {
     "cell_type": "markdown",
     "metadata": {},
     "source": [
      "#e"
     ]
    },
    {
     "cell_type": "code",
     "collapsed": false,
     "input": [
      "xl_file = pd.ExcelFile(\"Houston-security.xls\")\n",
      "\n",
      "dfs = {sheet_name: xl_file.parse(u'rptPublicAffairs') \n",
      "          for sheet_name in xl_file.sheet_names}"
     ],
     "language": "python",
     "metadata": {},
     "outputs": [],
     "prompt_number": 17
    },
    {
     "cell_type": "code",
     "collapsed": false,
     "input": [
      "type(dfs)"
     ],
     "language": "python",
     "metadata": {},
     "outputs": [
      {
       "metadata": {},
       "output_type": "pyout",
       "prompt_number": 18,
       "text": [
        "dict"
       ]
      }
     ],
     "prompt_number": 18
    },
    {
     "cell_type": "code",
     "collapsed": false,
     "input": [
      "xl = pd.ExcelFile('Houston-security.xls') #esto descarga el archivo de Excel, distingue entre las sheet que quiero importar e imprime el inicio \n",
      "xl.sheet_names \n",
      "[u'rptPublicAffairs'] \n",
      "df = xl.parse(\"rptPublicAffairs\") #variable que guarda las columnas del archivo df"
     ],
     "language": "python",
     "metadata": {},
     "outputs": [],
     "prompt_number": 33
    },
    {
     "cell_type": "code",
     "collapsed": false,
     "input": [
      "df = df.iloc[:,[1,2,9]]"
     ],
     "language": "python",
     "metadata": {},
     "outputs": [],
     "prompt_number": 34
    },
    {
     "cell_type": "code",
     "collapsed": false,
     "input": [
      "df = df.rename(columns=lambda x: x.replace(' ', '_'))"
     ],
     "language": "python",
     "metadata": {},
     "outputs": [],
     "prompt_number": 36
    },
    {
     "cell_type": "code",
     "collapsed": false,
     "input": [
      "df = df[df.Offense_Type == 'Theft']"
     ],
     "language": "python",
     "metadata": {},
     "outputs": [],
     "prompt_number": 38
    },
    {
     "cell_type": "code",
     "collapsed": false,
     "input": [
      "df = df.iloc[:,[0,2]]"
     ],
     "language": "python",
     "metadata": {},
     "outputs": [],
     "prompt_number": 40
    },
    {
     "cell_type": "code",
     "collapsed": false,
     "input": [
      "#cont =0\n",
      "numdel = []\n",
      "for j in range(24):\n",
      "    cont = 0\n",
      "    temp = df[df.Hour == j]\n",
      "    for i in range(temp.shape[0]):    \n",
      "        cont += temp.iloc[i,1]        \n",
      "    numdel.append(cont)\n",
      "    print str(j) + \": \" + str(cont)"
     ],
     "language": "python",
     "metadata": {},
     "outputs": [
      {
       "output_type": "stream",
       "stream": "stdout",
       "text": [
        "0: 271\n",
        "1: 124"
       ]
      },
      {
       "output_type": "stream",
       "stream": "stdout",
       "text": [
        "\n",
        "2: 96\n",
        "3: 61"
       ]
      },
      {
       "output_type": "stream",
       "stream": "stdout",
       "text": [
        "\n",
        "4: 44\n",
        "5: 67"
       ]
      },
      {
       "output_type": "stream",
       "stream": "stdout",
       "text": [
        "\n",
        "6: 66\n",
        "7: 101"
       ]
      },
      {
       "output_type": "stream",
       "stream": "stdout",
       "text": [
        "\n",
        "8: 150"
       ]
      },
      {
       "output_type": "stream",
       "stream": "stdout",
       "text": [
        "\n",
        "9: 177"
       ]
      },
      {
       "output_type": "stream",
       "stream": "stdout",
       "text": [
        "\n",
        "10: 264"
       ]
      },
      {
       "output_type": "stream",
       "stream": "stdout",
       "text": [
        "\n",
        "11: 231"
       ]
      },
      {
       "output_type": "stream",
       "stream": "stdout",
       "text": [
        "\n",
        "12: 415"
       ]
      },
      {
       "output_type": "stream",
       "stream": "stdout",
       "text": [
        "\n",
        "13: 288"
       ]
      },
      {
       "output_type": "stream",
       "stream": "stdout",
       "text": [
        "\n",
        "14: 333"
       ]
      },
      {
       "output_type": "stream",
       "stream": "stdout",
       "text": [
        "\n",
        "15: 320"
       ]
      },
      {
       "output_type": "stream",
       "stream": "stdout",
       "text": [
        "\n",
        "16: 332"
       ]
      },
      {
       "output_type": "stream",
       "stream": "stdout",
       "text": [
        "\n",
        "17: 371"
       ]
      },
      {
       "output_type": "stream",
       "stream": "stdout",
       "text": [
        "\n",
        "18: 413"
       ]
      },
      {
       "output_type": "stream",
       "stream": "stdout",
       "text": [
        "\n",
        "19: 361"
       ]
      },
      {
       "output_type": "stream",
       "stream": "stdout",
       "text": [
        "\n",
        "20: 384"
       ]
      },
      {
       "output_type": "stream",
       "stream": "stdout",
       "text": [
        "\n",
        "21: 307"
       ]
      },
      {
       "output_type": "stream",
       "stream": "stdout",
       "text": [
        "\n",
        "22: 301"
       ]
      },
      {
       "output_type": "stream",
       "stream": "stdout",
       "text": [
        "\n",
        "23: 215"
       ]
      },
      {
       "output_type": "stream",
       "stream": "stdout",
       "text": [
        "\n"
       ]
      }
     ],
     "prompt_number": 134
    },
    {
     "cell_type": "code",
     "collapsed": false,
     "input": [
      "delis = []\n",
      "for i in range(df.shape[0]):                   \n",
      "    delis.append(df.iloc[i,0])\n",
      "    #print str(j) + \": \" + str(cont)\n",
      "#print delis"
     ],
     "language": "python",
     "metadata": {},
     "outputs": [],
     "prompt_number": 158
    },
    {
     "cell_type": "code",
     "collapsed": false,
     "input": [
      "print numdel\n",
      "#print df.iloc[:,0]\n",
      "figure(figsize=(15,5))\n",
      "hist((delis),50)\n",
      "xlim(0,23)\n",
      "ylim(0,450)\n",
      "title(\"Estudio de la frecuencia de las bases nitrogenadas en fragmentos del cromosoma X (Adenima Vs Timina)\")\n",
      "show()"
     ],
     "language": "python",
     "metadata": {},
     "outputs": [
      {
       "output_type": "stream",
       "stream": "stdout",
       "text": [
        "[271, 124, 96, 61, 44, 67, 66, 101, 150, 177, 264, 231, 415, 288, 333, 320, 332, 371, 413, 361, 384, 307, 301, 215]\n"
       ]
      },
      {
       "metadata": {},
       "output_type": "display_data",
       "png": "[encoded data removed]",
       "text": [
        "<matplotlib.figure.Figure at 0xacac416c>"
       ]
      }
     ],
     "prompt_number": 164
    },
    {
     "cell_type": "code",
     "collapsed": false,
     "input": [],
     "language": "python",
     "metadata": {},
     "outputs": []
    }
   ],
   "metadata": {}
  }
 ]
}