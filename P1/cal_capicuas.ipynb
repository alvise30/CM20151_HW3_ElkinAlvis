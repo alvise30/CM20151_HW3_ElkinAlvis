{
 "metadata": {
  "name": "",
  "signature": "sha256:b9db46e7f4e0b046b7b3710134778d67aa98cea879e9bc7d2bbce9ad1b61f4f4"
 },
 "nbformat": 3,
 "nbformat_minor": 0,
 "worksheets": [
  {
   "cells": [
    {
     "cell_type": "markdown",
     "metadata": {},
     "source": [
      "#Tarea 3-Punto 1\n",
      "##Elkin R. Alvis Narv\u00e1ez - 201112664"
     ]
    },
    {
     "cell_type": "code",
     "collapsed": false,
     "input": [
      "%pylab inline\n",
      "import itertools"
     ],
     "language": "python",
     "metadata": {},
     "outputs": [
      {
       "output_type": "stream",
       "stream": "stdout",
       "text": [
        "Populating the interactive namespace from numpy and matplotlib\n"
       ]
      }
     ],
     "prompt_number": 1
    },
    {
     "cell_type": "markdown",
     "metadata": {},
     "source": [
      "##a)\n",
      "C\u00e1lcular e imprimir todos los capic\u00faas de 9 d\u00edgitos."
     ]
    },
    {
     "cell_type": "code",
     "collapsed": false,
     "input": [
      "#Generamos los capic\u00faas\n",
      "p = itertools.product(range(10), repeat = 5)#Aqu\u00ed iteramos los n\u00fameros del 0 al 9 as\u00ed: 00000,00001,00002,...,54675,...,99231,...,99910,...,99999\n",
      "lis = []\n",
      "for x in p:\n",
      "    lis.append(''.join(map(str,x))) #Ahora los ponemos todos en una lista de strings"
     ],
     "language": "python",
     "metadata": {},
     "outputs": [],
     "prompt_number": 27
    },
    {
     "cell_type": "code",
     "collapsed": false,
     "input": [
      "capi=[]\n",
      "for x in lis:\n",
      "    temp = int(x[0:-1]+x[::-1]) #Aqu\u00ed creamos los capic\u00faas reflejando el n\u00famero original, eliminando la \u00faltima posici\u00f3n(centro) y pegando el resto del n\u00famero\n",
      "    if(temp>100000000):#Filtramos los numeros como \"000010000\" q no son capic\u00faas.\n",
      "        capi.append(temp)"
     ],
     "language": "python",
     "metadata": {},
     "outputs": [],
     "prompt_number": 28
    },
    {
     "cell_type": "code",
     "collapsed": false,
     "input": [
      "print 'El total de n\u00fameros capic\u00faas de 9 d\u00edgitos es: ' + str(len(capi))"
     ],
     "language": "python",
     "metadata": {},
     "outputs": [
      {
       "output_type": "stream",
       "stream": "stdout",
       "text": [
        "El total de n\u00fameros capic\u00faas de 9 d\u00edgitos es: 90000\n"
       ]
      }
     ],
     "prompt_number": 29
    },
    {
     "cell_type": "code",
     "collapsed": false,
     "input": [
      "#El 'print' en esta celda est\u00e1 comentado para reducir el tama\u00f1o de la p\u00e1g del notebook. \n",
      "#print capi #Esta celda imprime la lista de capuc\u00faas de 9 d\u00edgitos"
     ],
     "language": "python",
     "metadata": {},
     "outputs": [],
     "prompt_number": 30
    },
    {
     "cell_type": "markdown",
     "metadata": {},
     "source": [
      "##b)"
     ]
    },
    {
     "cell_type": "markdown",
     "metadata": {},
     "source": [
      "Encontrar los n\u00fameros de la lista anterior que son capic\u00faas tanto en binario como en representaci\u00f3n decimal"
     ]
    },
    {
     "cell_type": "code",
     "collapsed": false,
     "input": [
      "#Funci\u00f3n para pasar los elementos de una lista de ints a binarios. Quita el principio de los binarios '0b'\n",
      "def pasar_bin(a):\n",
      "    bins = []\n",
      "    temp = []\n",
      "    for element in a:\n",
      "        temp.append(bin(element))\n",
      "        \n",
      "    for element in temp:\n",
      "        n = str(element).lstrip('0b')\n",
      "        bins.append(n)\n",
      "        \n",
      "    return bins"
     ],
     "language": "python",
     "metadata": {},
     "outputs": [],
     "prompt_number": 117
    },
    {
     "cell_type": "code",
     "collapsed": false,
     "input": [
      "#Esta funci\u00f3n comrpueba si el binario es capic\u00faa o no.\n",
      "def comprobar(a):    \n",
      "    lon = len(a) -1\n",
      "    maxran = (len(a)-(len(a)%2))/2\n",
      "    cont = 0    \n",
      "    for i in range(maxran):    \n",
      "        if(int(a[i]) == int(a[lon-i])):\n",
      "            cont = cont +1        \n",
      "        else:\n",
      "            #print \"No es capicua\"\n",
      "            break\n",
      "    if(cont==maxran):\n",
      "        return True #, a\n",
      "    else:\n",
      "        return False"
     ],
     "language": "python",
     "metadata": {},
     "outputs": [],
     "prompt_number": 118
    },
    {
     "cell_type": "code",
     "collapsed": false,
     "input": [
      "#Esta funci\u00f3n selecciona los binarios capic\u00faas.\n",
      "def capi_bins(a):\n",
      "    capi_bins = []\n",
      "    for element in a:\n",
      "        if comprobar(element):\n",
      "            capi_bins.append(element)\n",
      "    return capi_bins"
     ],
     "language": "python",
     "metadata": {},
     "outputs": [],
     "prompt_number": 119
    },
    {
     "cell_type": "code",
     "collapsed": false,
     "input": [
      "#Esta funci\u00f3n imprime los capic\u00faas y los n\u00fameros como pide el enunciado.\n",
      "def imp_capibins(a):\n",
      "    for element in a:\n",
      "        print str(int(element,2)) + ' = ' + str(element)"
     ],
     "language": "python",
     "metadata": {},
     "outputs": [],
     "prompt_number": 120
    },
    {
     "cell_type": "code",
     "collapsed": false,
     "input": [
      "bins = pasar_bin(capi)\n",
      "cbins = capi_bins(bins)\n",
      "imp_capibins(cbins)"
     ],
     "language": "python",
     "metadata": {},
     "outputs": [
      {
       "output_type": "stream",
       "stream": "stdout",
       "text": [
        "719848917 = 101010111010000000010111010101\n",
        "910373019 = 110110010000110011000010011011\n",
        "939474939 = 110111111111110011111111111011\n"
       ]
      }
     ],
     "prompt_number": 121
    },
    {
     "cell_type": "markdown",
     "metadata": {},
     "source": [
      "##c)"
     ]
    },
    {
     "cell_type": "code",
     "collapsed": false,
     "input": [
      "#Funci\u00f3n para quitar acentos de las palabras.\n",
      "def quitaracentos(a):    \n",
      "    vowelsac = ['\u00e1','\u00e9','\u00ed','\u00f3','\u00fa','\u00c1','\u00c9','\u00cd','\u00d3','\u00da']\n",
      "    vowels = ['a', 'e', 'i', 'o', 'u', 'A', 'E', 'I', 'O', 'U']\n",
      "    i=0\n",
      "    for ace in vowelsac:    \n",
      "        if ace in a:       \n",
      "            a = a.replace(ace, vowels[i]) \n",
      "        i+=1\n",
      "    return a"
     ],
     "language": "python",
     "metadata": {},
     "outputs": [],
     "prompt_number": 234
    },
    {
     "cell_type": "code",
     "collapsed": false,
     "input": [
      "#Funci\u00f3n para quitar signos, espacios y volver todo a min\u00fasculas.\n",
      "def arreglar(a):\n",
      "    lista = [';',':',' ', ',', '_','-', '.','(', ')', '#','\"','[',']','\\n', '\\r','@', '!','?','\u00bf','$','\\'','&','\u00a1',\n",
      "             '\\x0c','\\u011d','\\u2014','\\u016d','\\u0109','\\u2123','@']    \n",
      "    for element in lista:        \n",
      "        if element in a:\n",
      "            a = a.replace(element,'')\n",
      "    a = a.replace(' ','')\n",
      "    a = a.lower()\n",
      "    return a"
     ],
     "language": "python",
     "metadata": {},
     "outputs": [],
     "prompt_number": 246
    },
    {
     "cell_type": "code",
     "collapsed": false,
     "input": [
      "#Funci\u00f3n que comprueba si el texto es capic\u00faa:\n",
      "def comp_palin(a):\n",
      "    nombre = a\n",
      "    if(a == a[::-1]):\n",
      "        print 'El texto es Pal\u00edndromo'\n",
      "    else:\n",
      "        print 'El texto no es Pal\u00edndromo'"
     ],
     "language": "python",
     "metadata": {},
     "outputs": [],
     "prompt_number": 264
    },
    {
     "cell_type": "code",
     "collapsed": false,
     "input": [
      "test = \"Ay! O\u00edr la sonrisa, madre: Lola iba sin ropa.\\n-Va, se sube, medita.\\n-Airado, llam\u00e9 a comer seis ratones.\\n-Aleve su amor a aves o maleza para robar tesoro.\\n-Se trab\u00f3.\\n-\u00a1Rara paz!\\n-El amo se va a Roma.\\n-Use vela.\\n-S\u00e9 notar, si es remo cae mal; lo dar\u00eda a ti.\\n-D\u00e9me buses a vapor.\\n-Ni sab\u00eda lo lerda, mas irnos al r\u00edo, ya.\""
     ],
     "language": "python",
     "metadata": {},
     "outputs": [],
     "prompt_number": 265
    },
    {
     "cell_type": "code",
     "collapsed": false,
     "input": [
      "c = quitaracentos(test)\n",
      "c = arreglar(c)\n",
      "comp_palin(c)"
     ],
     "language": "python",
     "metadata": {},
     "outputs": [
      {
       "output_type": "stream",
       "stream": "stdout",
       "text": [
        "El texto es Pal\u00edndromo\n"
       ]
      }
     ],
     "prompt_number": 266
    },
    {
     "cell_type": "code",
     "collapsed": false,
     "input": [
      "test2 = 'Elisa Basile1'"
     ],
     "language": "python",
     "metadata": {},
     "outputs": [],
     "prompt_number": 267
    },
    {
     "cell_type": "code",
     "collapsed": false,
     "input": [
      "test2 = quitaracentos(test2)\n",
      "test2 = arreglar(test2)\n",
      "comp_palin(test2)"
     ],
     "language": "python",
     "metadata": {},
     "outputs": [
      {
       "output_type": "stream",
       "stream": "stdout",
       "text": [
        "El texto no es Pal\u00edndromo\n"
       ]
      }
     ],
     "prompt_number": 268
    },
    {
     "cell_type": "code",
     "collapsed": false,
     "input": [],
     "language": "python",
     "metadata": {},
     "outputs": []
    }
   ],
   "metadata": {}
  }
 ]
}